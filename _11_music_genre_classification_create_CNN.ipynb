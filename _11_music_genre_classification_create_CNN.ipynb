{
 "cells": [
  {
   "cell_type": "code",
   "execution_count": 20,
   "id": "20727d5a",
   "metadata": {},
   "outputs": [],
   "source": [
    "import pandas as pd\n",
    "import numpy as np\n",
    "import tensorflow.keras as keras\n",
    "import json\n",
    "import matplotlib.pyplot as plt"
   ]
  },
  {
   "cell_type": "code",
   "execution_count": 21,
   "id": "0b525a72",
   "metadata": {},
   "outputs": [],
   "source": [
    "from sklearn.model_selection import train_test_split"
   ]
  },
  {
   "cell_type": "code",
   "execution_count": 22,
   "id": "df4fb167",
   "metadata": {},
   "outputs": [],
   "source": [
    "DATASET_PATH = \"data.json\""
   ]
  },
  {
   "cell_type": "code",
   "execution_count": 23,
   "id": "9a73a3bf",
   "metadata": {},
   "outputs": [],
   "source": [
    "def load_data(dataset_path):\n",
    "    \n",
    "    with open(dataset_path) as fp:\n",
    "        data = json.load(fp)\n",
    "        \n",
    "    X = np.array(data[\"mfcc\"])\n",
    "    y = np.array(data[\"labels\"])\n",
    "    \n",
    "    return X, y    "
   ]
  },
  {
   "cell_type": "code",
   "execution_count": 24,
   "id": "fd4df974",
   "metadata": {},
   "outputs": [],
   "source": [
    "def prepare_datasets(test_size, validation_size, dataset_path):\n",
    "    \n",
    "    #load data\n",
    "    X, y = load_data(dataset_path=dataset_path)\n",
    "    \n",
    "    # create train and test\n",
    "    X_train, X_test, y_train, y_test= train_test_split(X, y, test_size=test_size)\n",
    "    \n",
    "    # create validation split\n",
    "    X_train, X_validation, y_train, y_validation =train_test_split(X_train, y_train, test_size=test_size)\n",
    "    \n",
    "    # TF expects a 3D array for each -> (130, 13, 1) for MFCCs with last D as channel\n",
    "    X_train = X_train[..., np.newaxis] # now 4d array --> (num samples, 130, 13, 1)\n",
    "    X_validation = X_validation[..., np.newaxis]\n",
    "    X_test = X_test[..., np.newaxis]\n",
    "    \n",
    "    return X_train, X_validation, X_test, y_train, y_validation, y_test"
   ]
  },
  {
   "cell_type": "code",
   "execution_count": 25,
   "id": "ac0ce2ba",
   "metadata": {},
   "outputs": [],
   "source": [
    "# create train, validation, and test sets\n",
    "(X_train, X_validation, X_test, \n",
    "     y_train, y_validation, y_test) = prepare_datasets(test_size=0.25\n",
    "                                                       , validation_size = 0.2, \n",
    "                                                      dataset_path= DATASET_PATH)"
   ]
  },
  {
   "cell_type": "code",
   "execution_count": 26,
   "id": "0df24743",
   "metadata": {},
   "outputs": [],
   "source": [
    "def build_model(input_shape):\n",
    "    # create model\n",
    "    model = keras.Sequential()\n",
    "    \n",
    "    # 1st conv layer\n",
    "    model.add(keras.layers.Conv2D(filters=32, kernel_size=(3,3), activation=\"relu\",\n",
    "                                 input_shape= input_shape))\n",
    "    model.add(keras.layers.MaxPool2D(pool_size=(3,3), strides=(2,2), padding='same'))\n",
    "    model.add(keras.layers.BatchNormalization())\n",
    "    \n",
    "    # 2nd conv layer\n",
    "    model.add(keras.layers.Conv2D(filters=32, kernel_size=(3,3), activation=\"relu\",\n",
    "                                 input_shape= input_shape))\n",
    "    model.add(keras.layers.MaxPool2D(pool_size=(3,3), strides=(2,2), padding='same'))\n",
    "    model.add(keras.layers.BatchNormalization())\n",
    "    \n",
    "    # 3rd conv layer\n",
    "    model.add(keras.layers.Conv2D(filters=32, kernel_size=(2,2), activation=\"relu\",\n",
    "                                 input_shape= input_shape))\n",
    "    model.add(keras.layers.MaxPool2D(pool_size=(2,2), strides=(2,2), padding='same'))\n",
    "    model.add(keras.layers.BatchNormalization())\n",
    "    \n",
    "    # flatten the output and feed to dense output layer\n",
    "    model.add(keras.layers.Flatten())\n",
    "    model.add(keras.layers.Dense(units= 64, activation=\"relu\"))\n",
    "    model.add(keras.layers.Dropout(0.3))\n",
    "    \n",
    "    # dense output layer\n",
    "    model.add(keras.layers.Dense(units=10, activation=\"softmax\"))\n",
    "    \n",
    "    return model"
   ]
  },
  {
   "cell_type": "code",
   "execution_count": 27,
   "id": "3ae30c04",
   "metadata": {},
   "outputs": [],
   "source": [
    "# plot history\n",
    "def plot_history(history):\n",
    "    fig, axs = plt.subplots(2)\n",
    "    # create accuracy subplot\n",
    "    axs[0].plot(history.history[\"accuracy\"], label=\"train_accuracy\")\n",
    "    axs[0].plot(history.history[\"val_accuracy\"], label=\"test_accuracy\")\n",
    "    axs[0].set_ylabel(\"Accuracy\")\n",
    "    axs[0].legend(loc=\"lower right\")\n",
    "    axs[0].set_title(\"Accuracy eval\")\n",
    "    \n",
    "    # create errot subplot\n",
    "    axs[1].plot(history.history[\"loss\"], label=\"train_error\")\n",
    "    axs[1].plot(history.history[\"val_loss\"], label=\"test_error\")\n",
    "    axs[1].set_ylabel(\"Error\")\n",
    "    axs[1].set_xlabel(\"Epoch\")\n",
    "    axs[1].legend(loc=\"upper right\")\n",
    "    axs[1].set_title(\"Error eval\")\n",
    "    \n",
    "    plt.show()"
   ]
  },
  {
   "cell_type": "code",
   "execution_count": 28,
   "id": "19c2b37f",
   "metadata": {},
   "outputs": [],
   "source": [
    "# build the CNN net"
   ]
  },
  {
   "cell_type": "code",
   "execution_count": 29,
   "id": "e3126a2e",
   "metadata": {},
   "outputs": [],
   "source": [
    "input_shape = (X_train.shape[1], X_train.shape[2], X_train.shape[3])  \n",
    "model = build_model(input_shape)"
   ]
  },
  {
   "cell_type": "code",
   "execution_count": 30,
   "id": "6a4e7844",
   "metadata": {},
   "outputs": [],
   "source": [
    "# compile the CNN "
   ]
  },
  {
   "cell_type": "code",
   "execution_count": 31,
   "id": "20d4b4dc",
   "metadata": {},
   "outputs": [
    {
     "name": "stdout",
     "output_type": "stream",
     "text": [
      "Model: \"sequential_1\"\n",
      "_________________________________________________________________\n",
      " Layer (type)                Output Shape              Param #   \n",
      "=================================================================\n",
      " conv2d_3 (Conv2D)           (None, 128, 11, 32)       320       \n",
      "                                                                 \n",
      " max_pooling2d_3 (MaxPooling  (None, 64, 6, 32)        0         \n",
      " 2D)                                                             \n",
      "                                                                 \n",
      " batch_normalization_3 (Batc  (None, 64, 6, 32)        128       \n",
      " hNormalization)                                                 \n",
      "                                                                 \n",
      " conv2d_4 (Conv2D)           (None, 62, 4, 32)         9248      \n",
      "                                                                 \n",
      " max_pooling2d_4 (MaxPooling  (None, 31, 2, 32)        0         \n",
      " 2D)                                                             \n",
      "                                                                 \n",
      " batch_normalization_4 (Batc  (None, 31, 2, 32)        128       \n",
      " hNormalization)                                                 \n",
      "                                                                 \n",
      " conv2d_5 (Conv2D)           (None, 30, 1, 32)         4128      \n",
      "                                                                 \n",
      " max_pooling2d_5 (MaxPooling  (None, 15, 1, 32)        0         \n",
      " 2D)                                                             \n",
      "                                                                 \n",
      " batch_normalization_5 (Batc  (None, 15, 1, 32)        128       \n",
      " hNormalization)                                                 \n",
      "                                                                 \n",
      " flatten_1 (Flatten)         (None, 480)               0         \n",
      "                                                                 \n",
      " dense_2 (Dense)             (None, 64)                30784     \n",
      "                                                                 \n",
      " dropout_1 (Dropout)         (None, 64)                0         \n",
      "                                                                 \n",
      " dense_3 (Dense)             (None, 10)                650       \n",
      "                                                                 \n",
      "=================================================================\n",
      "Total params: 45,514\n",
      "Trainable params: 45,322\n",
      "Non-trainable params: 192\n",
      "_________________________________________________________________\n"
     ]
    }
   ],
   "source": [
    "optimizer = keras.optimizers.Adam(learning_rate=0.0001)\n",
    "model.compile(optimizer=optimizer, \n",
    "             loss= \"sparse_categorical_crossentropy\",\n",
    "             metrics=\"accuracy\")\n",
    "\n",
    "model.summary()"
   ]
  },
  {
   "cell_type": "code",
   "execution_count": 32,
   "id": "0dd9b153",
   "metadata": {},
   "outputs": [
    {
     "name": "stdout",
     "output_type": "stream",
     "text": [
      "Epoch 1/30\n",
      "176/176 [==============================] - 7s 38ms/step - loss: 2.3968 - accuracy: 0.2423 - val_loss: 1.8770 - val_accuracy: 0.3637\n",
      "Epoch 2/30\n",
      "176/176 [==============================] - 6s 36ms/step - loss: 1.8362 - accuracy: 0.3671 - val_loss: 1.5653 - val_accuracy: 0.4384\n",
      "Epoch 3/30\n",
      "176/176 [==============================] - 6s 35ms/step - loss: 1.6168 - accuracy: 0.4262 - val_loss: 1.3941 - val_accuracy: 0.5024\n",
      "Epoch 4/30\n",
      "176/176 [==============================] - 6s 36ms/step - loss: 1.4653 - accuracy: 0.4747 - val_loss: 1.3155 - val_accuracy: 0.5312\n",
      "Epoch 5/30\n",
      "176/176 [==============================] - 7s 38ms/step - loss: 1.4165 - accuracy: 0.4959 - val_loss: 1.2671 - val_accuracy: 0.5451\n",
      "Epoch 6/30\n",
      "176/176 [==============================] - 7s 38ms/step - loss: 1.3351 - accuracy: 0.5137 - val_loss: 1.2262 - val_accuracy: 0.5541\n",
      "Epoch 7/30\n",
      "176/176 [==============================] - 6s 36ms/step - loss: 1.2981 - accuracy: 0.5342 - val_loss: 1.1825 - val_accuracy: 0.5771\n",
      "Epoch 8/30\n",
      "176/176 [==============================] - 7s 39ms/step - loss: 1.2375 - accuracy: 0.5555 - val_loss: 1.1758 - val_accuracy: 0.5707\n",
      "Epoch 9/30\n",
      "176/176 [==============================] - 7s 38ms/step - loss: 1.1892 - accuracy: 0.5784 - val_loss: 1.1271 - val_accuracy: 0.5829\n",
      "Epoch 10/30\n",
      "176/176 [==============================] - 7s 38ms/step - loss: 1.1494 - accuracy: 0.5845 - val_loss: 1.0893 - val_accuracy: 0.6037\n",
      "Epoch 11/30\n",
      "176/176 [==============================] - 6s 36ms/step - loss: 1.1154 - accuracy: 0.6035 - val_loss: 1.0751 - val_accuracy: 0.6112\n",
      "Epoch 12/30\n",
      "176/176 [==============================] - 6s 36ms/step - loss: 1.0890 - accuracy: 0.6156 - val_loss: 1.0374 - val_accuracy: 0.6203\n",
      "Epoch 13/30\n",
      "176/176 [==============================] - 7s 38ms/step - loss: 1.0557 - accuracy: 0.6252 - val_loss: 1.0347 - val_accuracy: 0.6293\n",
      "Epoch 14/30\n",
      "176/176 [==============================] - 6s 37ms/step - loss: 1.0344 - accuracy: 0.6293 - val_loss: 1.0140 - val_accuracy: 0.6384\n",
      "Epoch 15/30\n",
      "176/176 [==============================] - 6s 37ms/step - loss: 1.0194 - accuracy: 0.6443 - val_loss: 1.0103 - val_accuracy: 0.6352\n",
      "Epoch 16/30\n",
      "176/176 [==============================] - 7s 37ms/step - loss: 0.9743 - accuracy: 0.6483 - val_loss: 0.9833 - val_accuracy: 0.6507\n",
      "Epoch 17/30\n",
      "176/176 [==============================] - 6s 36ms/step - loss: 0.9408 - accuracy: 0.6674 - val_loss: 0.9603 - val_accuracy: 0.6592\n",
      "Epoch 18/30\n",
      "176/176 [==============================] - 6s 36ms/step - loss: 0.9103 - accuracy: 0.6789 - val_loss: 0.9761 - val_accuracy: 0.6608\n",
      "Epoch 19/30\n",
      "176/176 [==============================] - 6s 36ms/step - loss: 0.8944 - accuracy: 0.6793 - val_loss: 0.9502 - val_accuracy: 0.6533\n",
      "Epoch 20/30\n",
      "176/176 [==============================] - 6s 36ms/step - loss: 0.8788 - accuracy: 0.6885 - val_loss: 0.9524 - val_accuracy: 0.6576\n",
      "Epoch 21/30\n",
      "176/176 [==============================] - 6s 36ms/step - loss: 0.8538 - accuracy: 0.7033 - val_loss: 0.9195 - val_accuracy: 0.6741\n",
      "Epoch 22/30\n",
      "176/176 [==============================] - 6s 36ms/step - loss: 0.8325 - accuracy: 0.7044 - val_loss: 0.9182 - val_accuracy: 0.6768\n",
      "Epoch 23/30\n",
      "176/176 [==============================] - 6s 36ms/step - loss: 0.8424 - accuracy: 0.7028 - val_loss: 0.8853 - val_accuracy: 0.6864\n",
      "Epoch 24/30\n",
      "176/176 [==============================] - 7s 38ms/step - loss: 0.8058 - accuracy: 0.7166 - val_loss: 0.8848 - val_accuracy: 0.6875\n",
      "Epoch 25/30\n",
      "176/176 [==============================] - 6s 35ms/step - loss: 0.7836 - accuracy: 0.7232 - val_loss: 0.8762 - val_accuracy: 0.6917\n",
      "Epoch 26/30\n",
      "176/176 [==============================] - 6s 36ms/step - loss: 0.7626 - accuracy: 0.7279 - val_loss: 0.8874 - val_accuracy: 0.6821\n",
      "Epoch 27/30\n",
      "176/176 [==============================] - 6s 36ms/step - loss: 0.7421 - accuracy: 0.7353 - val_loss: 0.8866 - val_accuracy: 0.6928\n",
      "Epoch 28/30\n",
      "176/176 [==============================] - 6s 36ms/step - loss: 0.7234 - accuracy: 0.7513 - val_loss: 0.8568 - val_accuracy: 0.6987\n",
      "Epoch 29/30\n",
      "176/176 [==============================] - 6s 36ms/step - loss: 0.7169 - accuracy: 0.7442 - val_loss: 0.9103 - val_accuracy: 0.6837\n",
      "Epoch 30/30\n",
      "176/176 [==============================] - 6s 36ms/step - loss: 0.6977 - accuracy: 0.7565 - val_loss: 0.8690 - val_accuracy: 0.6955\n"
     ]
    }
   ],
   "source": [
    "# train the CNN\\\n",
    "history = model.fit(x= X_train, y= y_train, validation_data=[X_validation, y_validation], \n",
    "         batch_size = 32, \n",
    "         epochs = 30)"
   ]
  },
  {
   "cell_type": "code",
   "execution_count": 40,
   "id": "d60ebdc5",
   "metadata": {},
   "outputs": [
    {
     "data": {
      "image/png": "[encoded data removed]",
      "text/plain": [
       "<Figure size 432x288 with 2 Axes>"
      ]
     },
     "metadata": {
      "needs_background": "light"
     },
     "output_type": "display_data"
    }
   ],
   "source": [
    "# plot training\n",
    "plot_history(history)"
   ]
  },
  {
   "cell_type": "code",
   "execution_count": 36,
   "id": "e1ff4dad",
   "metadata": {},
   "outputs": [
    {
     "name": "stdout",
     "output_type": "stream",
     "text": [
      "79/79 [==============================] - 1s 9ms/step - loss: 0.8820 - accuracy: 0.6983\n",
      "Accuracy on test set is : 0.6982793211936951\n"
     ]
    }
   ],
   "source": [
    "# evaluate the CNN on test set\n",
    "test_error, test_accuracy = model.evaluate(X_test, y_test, verbose=1)\n",
    "print(f\"Accuracy on test set is : {test_accuracy}\")"
   ]
  },
  {
   "cell_type": "code",
   "execution_count": 43,
   "id": "a3043208",
   "metadata": {},
   "outputs": [],
   "source": [
    "# make predictions on a sample\n",
    "\n",
    "def predict(model, X, y):\n",
    "    X = X[np.newaxis, ...]\n",
    "    \n",
    "    prediction = model.predict(X) # X , model expect 4 dims, with first dim as num_samples (1,130,13,1)\n",
    "    # prediction = [[0.1, 0.2, ...]]\n",
    "    \n",
    "    #extract index with max value\n",
    "    predicted_index = np.argmax(prediction, axis=1) #14\n",
    "    \n",
    "    print(f\"The expected index is {y} and predicted index is {predicted_index}\")"
   ]
  },
  {
   "cell_type": "code",
   "execution_count": 47,
   "id": "68d5c5cd",
   "metadata": {},
   "outputs": [],
   "source": [
    "X = X_test[1060]\n",
    "y = y_test[1060]"
   ]
  },
  {
   "cell_type": "code",
   "execution_count": 48,
   "id": "e345bd67",
   "metadata": {},
   "outputs": [
    {
     "name": "stdout",
     "output_type": "stream",
     "text": [
      "The expected index is 7 and predicted index is [7]\n"
     ]
    }
   ],
   "source": [
    "predict(model, X, y)"
   ]
  },
  {
   "cell_type": "code",
   "execution_count": null,
   "id": "ad19b384",
   "metadata": {},
   "outputs": [],
   "source": [
    "#"
   ]
  },
  {
   "cell_type": "code",
   "execution_count": null,
   "id": "294cb00e",
   "metadata": {},
   "outputs": [],
   "source": []
  }
 ],
 "metadata": {
  "kernelspec": {
   "display_name": "Python [conda env:envML]",
   "language": "python",
   "name": "conda-env-envML-py"
  },
  "language_info": {
   "codemirror_mode": {
    "name": "ipython",
    "version": 3
   },
   "file_extension": ".py",
   "mimetype": "text/x-python",
   "name": "python",
   "nbconvert_exporter": "python",
   "pygments_lexer": "ipython3",
   "version": "3.9.7"
  }
 },
 "nbformat": 4,
 "nbformat_minor": 5
}
