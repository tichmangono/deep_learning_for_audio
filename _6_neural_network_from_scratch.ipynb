{
 "cells": [
  {
   "cell_type": "markdown",
   "id": "95741b78",
   "metadata": {},
   "source": [
    "# Make a simple Neuron"
   ]
  },
  {
   "cell_type": "code",
   "execution_count": 1,
   "id": "f2201964",
   "metadata": {},
   "outputs": [],
   "source": [
    "import numpy as np"
   ]
  },
  {
   "cell_type": "code",
   "execution_count": 2,
   "id": "6d486fc4",
   "metadata": {},
   "outputs": [],
   "source": [
    "inputs = np.array([.5, .3, .2])\n",
    "weights = np.array([.4, .7, .2])"
   ]
  },
  {
   "cell_type": "code",
   "execution_count": 7,
   "id": "c8ab04b1",
   "metadata": {},
   "outputs": [],
   "source": [
    "def sigmoid(res):\n",
    "    sig = 1/(1+np.exp(-res))\n",
    "    return sig"
   ]
  },
  {
   "cell_type": "code",
   "execution_count": 8,
   "id": "c67bbcf4",
   "metadata": {},
   "outputs": [],
   "source": [
    "def activate(inputs, weights):\n",
    "    res = np.dot(inputs, weights)\n",
    "    out = sigmoid(res)\n",
    "    return out"
   ]
  },
  {
   "cell_type": "code",
   "execution_count": 9,
   "id": "95996e1b",
   "metadata": {},
   "outputs": [],
   "source": [
    "output = activate(inputs, weights)"
   ]
  },
  {
   "cell_type": "code",
   "execution_count": 10,
   "id": "197345d4",
   "metadata": {},
   "outputs": [
    {
     "data": {
      "text/plain": [
       "0.610639233949222"
      ]
     },
     "execution_count": 10,
     "metadata": {},
     "output_type": "execute_result"
    }
   ],
   "source": [
    "output"
   ]
  },
  {
   "cell_type": "code",
   "execution_count": null,
   "id": "4b98415e",
   "metadata": {},
   "outputs": [],
   "source": []
  }
 ],
 "metadata": {
  "kernelspec": {
   "display_name": "Python [conda env:envML]",
   "language": "python",
   "name": "conda-env-envML-py"
  },
  "language_info": {
   "codemirror_mode": {
    "name": "ipython",
    "version": 3
   },
   "file_extension": ".py",
   "mimetype": "text/x-python",
   "name": "python",
   "nbconvert_exporter": "python",
   "pygments_lexer": "ipython3",
   "version": "3.9.7"
  }
 },
 "nbformat": 4,
 "nbformat_minor": 5
}
