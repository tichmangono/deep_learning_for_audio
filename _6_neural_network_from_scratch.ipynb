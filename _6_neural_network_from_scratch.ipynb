{
 "cells": [
  {
   "cell_type": "markdown",
   "id": "1a400529",
   "metadata": {},
   "source": [
    "# Make a simple Neuron"
   ]
  },
  {
   "cell_type": "code",
   "execution_count": 1,
   "id": "6cd4ee96",
   "metadata": {},
   "outputs": [],
   "source": [
    "import numpy as np"
   ]
  },
  {
   "cell_type": "code",
   "execution_count": 2,
   "id": "bbd07bb0",
   "metadata": {},
   "outputs": [],
   "source": [
    "inputs = np.array([.5, .3, .2])\n",
    "weights = np.array([.4, .7, .2])\n",
    "\n",
    "def sigmoid(res):\n",
    "    sig = 1/(1+np.exp(-res))\n",
    "    return sig\n",
    "\n",
    "def activate(inputs, weights):\n",
    "    res = np.dot(inputs, weights)\n",
    "    out = sigmoid(res)\n",
    "    return out"
   ]
  },
  {
   "cell_type": "code",
   "execution_count": 11,
   "id": "57deb9aa",
   "metadata": {},
   "outputs": [
    {
     "data": {
      "text/plain": [
       "0.610639233949222"
      ]
     },
     "execution_count": 11,
     "metadata": {},
     "output_type": "execute_result"
    }
   ],
   "source": [
    "output = activate(inputs, weights)\n",
    "output"
   ]
  },
  {
   "cell_type": "markdown",
   "id": "d5b61f40",
   "metadata": {},
   "source": [
    "# Coding up a Multi-layer Perceptron (MLP)"
   ]
  },
  {
   "cell_type": "code",
   "execution_count": 47,
   "id": "49dcb1f7",
   "metadata": {},
   "outputs": [],
   "source": [
    "class MLP:\n",
    "    def __init__(self, num_inputs=3, num_hidden=[3, 5], num_outputs= 2):\n",
    "        self.num_inputs = num_inputs\n",
    "        self.num_hidden = num_hidden\n",
    "        self.num_outputs = num_outputs\n",
    "        \n",
    "        # internal representaition of the weight dimensions\n",
    "        layers = [self.num_inputs] + self.num_hidden + [self.num_outputs]\n",
    "        \n",
    "        # initiate random weights (will be trained later)\n",
    "        self.weights = []\n",
    "        for i in range(len(layers)-1):\n",
    "            print(i)\n",
    "            w = np.random.rand(layers[i], layers[i+1])\n",
    "            self.weights.append(w)\n",
    "    \n",
    "    def sigmoid(self, x):\n",
    "        return 1/(1+np.exp(-x))\n",
    "    \n",
    "    def forward_propagate(self, inputs):\n",
    "        activations = inputs\n",
    "        \n",
    "        for w in self.weights:\n",
    "            # calculate net inputs\n",
    "            net_inputs = np.dot(activations, w)\n",
    "            # calculate the activations\n",
    "            activations = self.sigmoid(net_inputs)\n",
    "            \n",
    "        return activations"
   ]
  },
  {
   "cell_type": "code",
   "execution_count": 48,
   "id": "4435c1aa",
   "metadata": {},
   "outputs": [
    {
     "name": "stdout",
     "output_type": "stream",
     "text": [
      "0\n",
      "1\n",
      "2\n",
      "The network input is = [0.6104671  0.53005412 0.18609683] \n",
      "The network output is [0.79841774 0.83964484]\n"
     ]
    }
   ],
   "source": [
    "# create MLP, instatiate\n",
    "mlp = MLP()\n",
    "\n",
    "# create some inputs\n",
    "inputs = np.random.rand(mlp.num_inputs)\n",
    "\n",
    "# do forward prop\n",
    "outputs = mlp.forward_propagate(inputs)\n",
    "\n",
    "# print results\n",
    "print(f\"The network input is = {inputs} \\nThe network output is {outputs}\")"
   ]
  },
  {
   "cell_type": "code",
   "execution_count": null,
   "id": "f2abe8dc",
   "metadata": {},
   "outputs": [],
   "source": []
  }
 ],
 "metadata": {
  "kernelspec": {
   "display_name": "Python [conda env:envML]",
   "language": "python",
   "name": "conda-env-envML-py"
  },
  "language_info": {
   "codemirror_mode": {
    "name": "ipython",
    "version": 3
   },
   "file_extension": ".py",
   "mimetype": "text/x-python",
   "name": "python",
   "nbconvert_exporter": "python",
   "pygments_lexer": "ipython3",
   "version": "3.9.7"
  }
 },
 "nbformat": 4,
 "nbformat_minor": 5
}
