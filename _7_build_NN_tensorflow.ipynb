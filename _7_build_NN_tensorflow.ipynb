{
 "cells": [
  {
   "cell_type": "markdown",
   "id": "154387b8",
   "metadata": {},
   "source": [
    "# Build Neural Network in Tensorflow"
   ]
  },
  {
   "cell_type": "code",
   "execution_count": null,
   "id": "3654da29",
   "metadata": {},
   "outputs": [],
   "source": [
    "# data --> \n",
    "# array([[0.1, 0.2], [0.1, 0.2]])\n",
    "# array([[0.3], [0.4]])\n",
    "\n",
    "# build model\n",
    "# complile model\n",
    "# train model\n",
    "# evaluate model"
   ]
  },
  {
   "cell_type": "code",
   "execution_count": 8,
   "id": "cb693ca7",
   "metadata": {},
   "outputs": [],
   "source": [
    "# libraries\n",
    "import numpy as np\n",
    "from random import random\n",
    "from sklearn.model_selection import train_test_split\n",
    "\n",
    "import tensorflow as tf"
   ]
  },
  {
   "cell_type": "code",
   "execution_count": 10,
   "id": "c4eef1f1",
   "metadata": {},
   "outputs": [],
   "source": [
    "# define function to generate toy data\n",
    "def generate_data(num_samples, test_size):\n",
    "    x = np.array([[random()/2 for _ in range(2)] for _ in range(num_samples)])\n",
    "    y = np.array([[i[0] + i[1]] for i in x])\n",
    "    x_train, x_test, y_train, y_test = train_test_split(x, y, test_size=0.3)\n",
    "    \n",
    "    return x_train, x_test, y_train, y_test\n",
    "\n",
    "x_train, x_test, y_train, y_test = generate_data(5000, 0.3)\n",
    "print(x_train.shape, x_test.shape, y_train.shape, y_test.shape)"
   ]
  },
  {
   "cell_type": "code",
   "execution_count": 80,
   "id": "afebe58e",
   "metadata": {},
   "outputs": [],
   "source": [
    "# build model: 2 -> 5 -> 1\n",
    "model = tf.keras.Sequential(\n",
    "    [tf.keras.layers.Dense(units = 5, input_dim=2, activation=\"sigmoid\"),\n",
    "    tf.keras.layers.Dense(units = 1, activation=\"sigmoid\")]\n",
    ")\n",
    "\n",
    "# complile model\n",
    "optimizer = tf.keras.optimizers.SGD(learning_rate=0.1)\n",
    "model.compile(optimizer = optimizer, loss = \"MSE\")"
   ]
  },
  {
   "cell_type": "code",
   "execution_count": 81,
   "id": "57614f1a",
   "metadata": {},
   "outputs": [
    {
     "name": "stdout",
     "output_type": "stream",
     "text": [
      "Epoch 1/100\n",
      "110/110 [==============================] - 0s 1ms/step - loss: 0.0496\n",
      "Epoch 2/100\n",
      "110/110 [==============================] - 0s 1ms/step - loss: 0.0441\n",
      "Epoch 3/100\n",
      "110/110 [==============================] - 0s 1ms/step - loss: 0.0436\n",
      "Epoch 4/100\n",
      "110/110 [==============================] - 0s 1ms/step - loss: 0.0432\n",
      "Epoch 5/100\n",
      "110/110 [==============================] - 0s 2ms/step - loss: 0.0428\n",
      "Epoch 6/100\n",
      "110/110 [==============================] - 0s 2ms/step - loss: 0.0423\n",
      "Epoch 7/100\n",
      "110/110 [==============================] - 0s 1ms/step - loss: 0.0419\n",
      "Epoch 8/100\n",
      "110/110 [==============================] - 0s 1ms/step - loss: 0.0415\n",
      "Epoch 9/100\n",
      "110/110 [==============================] - 0s 1ms/step - loss: 0.0411\n",
      "Epoch 10/100\n",
      "110/110 [==============================] - 0s 1ms/step - loss: 0.0406\n",
      "Epoch 11/100\n",
      "110/110 [==============================] - 0s 1ms/step - loss: 0.0402\n",
      "Epoch 12/100\n",
      "110/110 [==============================] - 0s 1ms/step - loss: 0.0397\n",
      "Epoch 13/100\n",
      "110/110 [==============================] - 0s 1ms/step - loss: 0.0393\n",
      "Epoch 14/100\n",
      "110/110 [==============================] - 0s 1ms/step - loss: 0.0388\n",
      "Epoch 15/100\n",
      "110/110 [==============================] - 0s 1ms/step - loss: 0.0384\n",
      "Epoch 16/100\n",
      "110/110 [==============================] - 0s 2ms/step - loss: 0.0379\n",
      "Epoch 17/100\n",
      "110/110 [==============================] - 0s 1ms/step - loss: 0.0374\n",
      "Epoch 18/100\n",
      "110/110 [==============================] - 0s 1ms/step - loss: 0.0369\n",
      "Epoch 19/100\n",
      "110/110 [==============================] - 0s 1ms/step - loss: 0.0363\n",
      "Epoch 20/100\n",
      "110/110 [==============================] - 0s 1ms/step - loss: 0.0357\n",
      "Epoch 21/100\n",
      "110/110 [==============================] - 0s 1ms/step - loss: 0.0352\n",
      "Epoch 22/100\n",
      "110/110 [==============================] - 0s 1ms/step - loss: 0.0346\n",
      "Epoch 23/100\n",
      "110/110 [==============================] - 0s 1ms/step - loss: 0.0340\n",
      "Epoch 24/100\n",
      "110/110 [==============================] - 0s 1ms/step - loss: 0.0333\n",
      "Epoch 25/100\n",
      "110/110 [==============================] - 0s 1ms/step - loss: 0.0327\n",
      "Epoch 26/100\n",
      "110/110 [==============================] - 0s 1ms/step - loss: 0.0320\n",
      "Epoch 27/100\n",
      "110/110 [==============================] - 0s 1ms/step - loss: 0.0313\n",
      "Epoch 28/100\n",
      "110/110 [==============================] - 0s 1ms/step - loss: 0.0306\n",
      "Epoch 29/100\n",
      "110/110 [==============================] - 0s 1ms/step - loss: 0.0298\n",
      "Epoch 30/100\n",
      "110/110 [==============================] - 0s 1ms/step - loss: 0.0291\n",
      "Epoch 31/100\n",
      "110/110 [==============================] - 0s 1ms/step - loss: 0.0282\n",
      "Epoch 32/100\n",
      "110/110 [==============================] - 0s 1ms/step - loss: 0.0275\n",
      "Epoch 33/100\n",
      "110/110 [==============================] - 0s 1ms/step - loss: 0.0266\n",
      "Epoch 34/100\n",
      "110/110 [==============================] - 0s 1ms/step - loss: 0.0258\n",
      "Epoch 35/100\n",
      "110/110 [==============================] - 0s 1ms/step - loss: 0.0250\n",
      "Epoch 36/100\n",
      "110/110 [==============================] - 0s 1ms/step - loss: 0.0241\n",
      "Epoch 37/100\n",
      "110/110 [==============================] - 0s 1ms/step - loss: 0.0232\n",
      "Epoch 38/100\n",
      "110/110 [==============================] - 0s 1ms/step - loss: 0.0224\n",
      "Epoch 39/100\n",
      "110/110 [==============================] - 0s 1ms/step - loss: 0.0215\n",
      "Epoch 40/100\n",
      "110/110 [==============================] - 0s 1ms/step - loss: 0.0206\n",
      "Epoch 41/100\n",
      "110/110 [==============================] - 0s 1ms/step - loss: 0.0197\n",
      "Epoch 42/100\n",
      "110/110 [==============================] - 0s 1ms/step - loss: 0.0189\n",
      "Epoch 43/100\n",
      "110/110 [==============================] - 0s 1ms/step - loss: 0.0180\n",
      "Epoch 44/100\n",
      "110/110 [==============================] - 0s 1ms/step - loss: 0.0172\n",
      "Epoch 45/100\n",
      "110/110 [==============================] - 0s 1ms/step - loss: 0.0163A: 0s - loss: 0.01\n",
      "Epoch 46/100\n",
      "110/110 [==============================] - 0s 1ms/step - loss: 0.0155\n",
      "Epoch 47/100\n",
      "110/110 [==============================] - 0s 1ms/step - loss: 0.0147\n",
      "Epoch 48/100\n",
      "110/110 [==============================] - 0s 1ms/step - loss: 0.0139\n",
      "Epoch 49/100\n",
      "110/110 [==============================] - 0s 2ms/step - loss: 0.0132\n",
      "Epoch 50/100\n",
      "110/110 [==============================] - 0s 1ms/step - loss: 0.0125\n",
      "Epoch 51/100\n",
      "110/110 [==============================] - 0s 1ms/step - loss: 0.0117\n",
      "Epoch 52/100\n",
      "110/110 [==============================] - 0s 2ms/step - loss: 0.0111\n",
      "Epoch 53/100\n",
      "110/110 [==============================] - 0s 1ms/step - loss: 0.0104\n",
      "Epoch 54/100\n",
      "110/110 [==============================] - 0s 1ms/step - loss: 0.0098\n",
      "Epoch 55/100\n",
      "110/110 [==============================] - 0s 1ms/step - loss: 0.0092\n",
      "Epoch 56/100\n",
      "110/110 [==============================] - 0s 1ms/step - loss: 0.0086\n",
      "Epoch 57/100\n",
      "110/110 [==============================] - 0s 1ms/step - loss: 0.0081\n",
      "Epoch 58/100\n",
      "110/110 [==============================] - 0s 1ms/step - loss: 0.0076\n",
      "Epoch 59/100\n",
      "110/110 [==============================] - 0s 1ms/step - loss: 0.0071\n",
      "Epoch 60/100\n",
      "110/110 [==============================] - 0s 1ms/step - loss: 0.0066\n",
      "Epoch 61/100\n",
      "110/110 [==============================] - 0s 1ms/step - loss: 0.0062\n",
      "Epoch 62/100\n",
      "110/110 [==============================] - 0s 1ms/step - loss: 0.0058\n",
      "Epoch 63/100\n",
      "110/110 [==============================] - 0s 1ms/step - loss: 0.0054\n",
      "Epoch 64/100\n",
      "110/110 [==============================] - 0s 1ms/step - loss: 0.0051\n",
      "Epoch 65/100\n",
      "110/110 [==============================] - 0s 1ms/step - loss: 0.0047\n",
      "Epoch 66/100\n",
      "110/110 [==============================] - 0s 1ms/step - loss: 0.0044\n",
      "Epoch 67/100\n",
      "110/110 [==============================] - 0s 1ms/step - loss: 0.0041\n",
      "Epoch 68/100\n",
      "110/110 [==============================] - 0s 1ms/step - loss: 0.0039\n",
      "Epoch 69/100\n",
      "110/110 [==============================] - 0s 1ms/step - loss: 0.0036\n",
      "Epoch 70/100\n",
      "110/110 [==============================] - 0s 1ms/step - loss: 0.0034\n",
      "Epoch 71/100\n",
      "110/110 [==============================] - 0s 1ms/step - loss: 0.0032\n",
      "Epoch 72/100\n",
      "110/110 [==============================] - 0s 1ms/step - loss: 0.0029\n",
      "Epoch 73/100\n",
      "110/110 [==============================] - 0s 1ms/step - loss: 0.0028\n",
      "Epoch 74/100\n",
      "110/110 [==============================] - 0s 1ms/step - loss: 0.0026\n",
      "Epoch 75/100\n",
      "110/110 [==============================] - 0s 1ms/step - loss: 0.0024\n",
      "Epoch 76/100\n",
      "110/110 [==============================] - 0s 1ms/step - loss: 0.0023\n",
      "Epoch 77/100\n",
      "110/110 [==============================] - 0s 1ms/step - loss: 0.0021\n",
      "Epoch 78/100\n",
      "110/110 [==============================] - 0s 1ms/step - loss: 0.0020\n",
      "Epoch 79/100\n",
      "110/110 [==============================] - 0s 2ms/step - loss: 0.0019\n",
      "Epoch 80/100\n",
      "110/110 [==============================] - 0s 1ms/step - loss: 0.0018\n",
      "Epoch 81/100\n",
      "110/110 [==============================] - 0s 1ms/step - loss: 0.0017\n",
      "Epoch 82/100\n",
      "110/110 [==============================] - 0s 1ms/step - loss: 0.0016\n",
      "Epoch 83/100\n",
      "110/110 [==============================] - 0s 1ms/step - loss: 0.0015\n",
      "Epoch 84/100\n",
      "110/110 [==============================] - 0s 1ms/step - loss: 0.0014\n",
      "Epoch 85/100\n",
      "110/110 [==============================] - 0s 1ms/step - loss: 0.0013\n",
      "Epoch 86/100\n",
      "110/110 [==============================] - 0s 1ms/step - loss: 0.0012\n",
      "Epoch 87/100\n",
      "110/110 [==============================] - 0s 1ms/step - loss: 0.0012\n",
      "Epoch 88/100\n",
      "110/110 [==============================] - 0s 1ms/step - loss: 0.0011- ETA: 0s - loss: 0.0011  \n",
      "Epoch 89/100\n",
      "110/110 [==============================] - 0s 1ms/step - loss: 0.0011\n",
      "Epoch 90/100\n",
      "110/110 [==============================] - 0s 1ms/step - loss: 0.0010\n",
      "Epoch 91/100\n",
      "110/110 [==============================] - 0s 1ms/step - loss: 9.5269e-04\n",
      "Epoch 92/100\n",
      "110/110 [==============================] - 0s 1ms/step - loss: 9.0792e-04\n",
      "Epoch 93/100\n",
      "110/110 [==============================] - 0s 1ms/step - loss: 8.6670e-04\n",
      "Epoch 94/100\n",
      "110/110 [==============================] - 0s 1ms/step - loss: 8.2830e-04\n",
      "Epoch 95/100\n",
      "110/110 [==============================] - 0s 1ms/step - loss: 7.9303e-04\n",
      "Epoch 96/100\n",
      "110/110 [==============================] - 0s 1ms/step - loss: 7.6044e-04\n",
      "Epoch 97/100\n",
      "110/110 [==============================] - 0s 1ms/step - loss: 7.2997e-04\n",
      "Epoch 98/100\n"
     ]
    },
    {
     "name": "stdout",
     "output_type": "stream",
     "text": [
      "110/110 [==============================] - 0s 1ms/step - loss: 7.0173e-04\n",
      "Epoch 99/100\n",
      "110/110 [==============================] - 0s 1ms/step - loss: 6.7587e-04\n",
      "Epoch 100/100\n",
      "110/110 [==============================] - 0s 2ms/step - loss: 6.5195e-04\n"
     ]
    },
    {
     "data": {
      "text/plain": [
       "<keras.callbacks.History at 0x1a1fad3e700>"
      ]
     },
     "execution_count": 81,
     "metadata": {},
     "output_type": "execute_result"
    }
   ],
   "source": [
    "# train model\n",
    "model.fit(x_train, y_train, epochs=100)"
   ]
  },
  {
   "cell_type": "code",
   "execution_count": 82,
   "id": "f1b8f025",
   "metadata": {},
   "outputs": [
    {
     "name": "stdout",
     "output_type": "stream",
     "text": [
      "Model evaluation using test set\n",
      "47/47 [==============================] - 0s 1ms/step - loss: 5.7591e-04\n"
     ]
    },
    {
     "data": {
      "text/plain": [
       "0.0005759109044447541"
      ]
     },
     "execution_count": 82,
     "metadata": {},
     "output_type": "execute_result"
    }
   ],
   "source": [
    "# evaluate model\n",
    "print(\"Model evaluation using test set\")\n",
    "model.evaluate(x=x_test, y=y_test)"
   ]
  },
  {
   "cell_type": "code",
   "execution_count": 83,
   "id": "b4103508",
   "metadata": {},
   "outputs": [
    {
     "data": {
      "text/plain": [
       "array([[0.4991965 ],\n",
       "       [0.76897514]], dtype=float32)"
      ]
     },
     "execution_count": 83,
     "metadata": {},
     "output_type": "execute_result"
    }
   ],
   "source": [
    "# make predictions\n",
    "data = np.array([[0.1, 0.4],[0.5, 0.3]])\n",
    "\n",
    "predictions = model.predict(data)\n",
    "\n",
    "predictions"
   ]
  },
  {
   "cell_type": "code",
   "execution_count": null,
   "id": "3d7867dd",
   "metadata": {},
   "outputs": [],
   "source": []
  },
  {
   "cell_type": "code",
   "execution_count": null,
   "id": "7e49bfe2",
   "metadata": {},
   "outputs": [],
   "source": [
    "#END"
   ]
  }
 ],
 "metadata": {
  "kernelspec": {
   "display_name": "Python [conda env:envML]",
   "language": "python",
   "name": "conda-env-envML-py"
  },
  "language_info": {
   "codemirror_mode": {
    "name": "ipython",
    "version": 3
   },
   "file_extension": ".py",
   "mimetype": "text/x-python",
   "name": "python",
   "nbconvert_exporter": "python",
   "pygments_lexer": "ipython3",
   "version": "3.9.7"
  }
 },
 "nbformat": 4,
 "nbformat_minor": 5
}
